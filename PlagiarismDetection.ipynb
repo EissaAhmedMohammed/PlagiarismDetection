{
  "cells": [
    {
      "cell_type": "code",
      "execution_count": null,
      "metadata": {
        "id": "RWHEYwL2qdVf"
      },
      "outputs": [],
      "source": [
        "import pandas as pd\n",
        "from sklearn.feature_extraction.text import CountVectorizer\n",
        "count_vect = CountVectorizer()\n",
        "\n",
        "Document1 = \"\"\"\n",
        "سلام علیکم ورحمە اللە وبرکات من ناوم************************* عیسایە لە زانکۆی سلاحەدین دەخێنم لە بەشی زانستەکانی کۆمپیوتەر\n",
        "\n",
        "\"\"\"\n",
        "\n",
        "Document2 = \"\"\"  &&&&&&&&&&&&&&&&&&&&&&&&&سلام علیکم ورحمە اللە وبرکات من ناوم عیسایە لە زانکۆی سۆران دەخێنم لە بەشی زانستەکانی کۆمپیوتەر\n",
        "\n",
        "\n",
        "\n",
        "\n",
        ".\"\"\"\n",
        "\n",
        "corpus = [Document1,Document2]\n",
        "\n",
        "X_train_counts = count_vect.fit_transform(corpus)\n",
        "\n"
      ]
    },
    {
      "cell_type": "code",
      "execution_count": null,
      "metadata": {
        "id": "5EQx8b2uqywe"
      },
      "outputs": [],
      "source": [
        "from sklearn.feature_extraction.text import TfidfVectorizer\n",
        "vectorizer = TfidfVectorizer()\n",
        "\n",
        "trsfm=vectorizer.fit_transform(corpus)\n"
      ]
    },
    {
      "cell_type": "code",
      "execution_count": null,
      "metadata": {
        "colab": {
          "base_uri": "https://localhost:8080/",
          "height": 35
        },
        "id": "-KuowAYmqezj",
        "outputId": "9cfeb148-7343-4df5-c412-cf1bbc88d0a7"
      },
      "outputs": [
        {
          "output_type": "execute_result",
          "data": {
            "text/plain": [
              "'باڵەکانی زۆر بچووکن بۆ ئەوەی جەستە بچووکە چەورەکەی لە زەوی دەربهێنێت.\\nبێگومان هەنگەکە بە هەر شێوەیەک بێت دەفڕێت چونکە\\nهەنگەکان گرنگی بەو شتانە نادەن کە مرۆڤەکان پێیان وایە مەحاڵە.'"
            ],
            "application/vnd.google.colaboratory.intrinsic+json": {
              "type": "string"
            }
          },
          "metadata": {},
          "execution_count": 32
        }
      ],
      "source": [
        "Document1"
      ]
    },
    {
      "cell_type": "code",
      "execution_count": null,
      "metadata": {
        "colab": {
          "base_uri": "https://localhost:8080/",
          "height": 53
        },
        "id": "E8eipBhMrFd7",
        "outputId": "ef05d220-5604-4c92-9576-dc79d6e48b09"
      },
      "outputs": [
        {
          "output_type": "execute_result",
          "data": {
            "text/plain": [
              "' \\nباڵەکانی زۆر بچووکن بۆ ئەوەی جەستە بچووکە چەورەکەی لە زەوی دەربهێنێت.\\nبێگومان هەنگەکە بە هەر شێوەیەک بێت دەفڕێت چونکە...\\nهەنگەکان گرنگی بەو شتانە نادەن کە مرۆڤەکان پێیان وایە مەحاڵە.'"
            ],
            "application/vnd.google.colaboratory.intrinsic+json": {
              "type": "string"
            }
          },
          "metadata": {},
          "execution_count": 37
        }
      ],
      "source": [
        "Document2\n"
      ]
    },
    {
      "cell_type": "code",
      "execution_count": null,
      "metadata": {
        "colab": {
          "base_uri": "https://localhost:8080/"
        },
        "id": "9vMMN1ONrQfi",
        "outputId": "d466795d-29d8-442c-9a89-783ad4021454"
      },
      "outputs": [
        {
          "output_type": "execute_result",
          "data": {
            "text/plain": [
              "array([[1.        , 0.80197831]])"
            ]
          },
          "metadata": {},
          "execution_count": 56
        }
      ],
      "source": [
        "from sklearn.metrics.pairwise import cosine_similarity\n",
        "\n",
        "cosine_similarity(trsfm[0:1], trsfm)"
      ]
    },
    {
      "cell_type": "code",
      "execution_count": null,
      "metadata": {
        "id": "LEjvk14Xrf3x"
      },
      "outputs": [],
      "source": []
    }
  ],
  "metadata": {
    "colab": {
      "provenance": []
    },
    "kernelspec": {
      "display_name": "Python 3",
      "name": "python3"
    },
    "language_info": {
      "name": "python"
    }
  },
  "nbformat": 4,
  "nbformat_minor": 0
}